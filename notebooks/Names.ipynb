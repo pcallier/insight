{
 "cells": [
  {
   "cell_type": "code",
   "execution_count": 7,
   "metadata": {
    "collapsed": false
   },
   "outputs": [],
   "source": [
    "import pandas as pd\n",
    "\n",
    "male_names = pd.DataFrame.from_csv(\"/home/patrick/Documents/insight/dist.male.first\", sep='\\t',header=None)\n",
    "female_names = pd.DataFrame.from_csv(\"/home/patrick/Documents/insight/dist.female.first\", sep='\\t',header=None)"
   ]
  },
  {
   "cell_type": "code",
   "execution_count": 31,
   "metadata": {
    "collapsed": false
   },
   "outputs": [],
   "source": [
    "shared = set(male_names.index) & set(female_names.index)\n",
    "\n",
    "mf_ratio = male_names.loc[shared, 1] / female_names.loc[shared, 1]\n",
    "fm_ratio = 1/mf_ratio\n",
    "\n",
    "male_names_only = male_names.loc[(set(male_names.index) - shared) | set(mf_ratio[(mf_ratio > 99)].index),:]\n",
    "male_names_only = sorted(list(male_names_only.index))\n",
    "\n",
    "female_names_only = female_names.loc[(set(female_names.index) - shared) | set(fm_ratio[(fm_ratio > 99)].index),:]\n",
    "female_names_only = sorted(list(female_names_only.index))"
   ]
  },
  {
   "cell_type": "code",
   "execution_count": 32,
   "metadata": {
    "collapsed": false
   },
   "outputs": [
    {
     "name": "stdout",
     "output_type": "stream",
     "text": [
      "3947\n",
      "4275\n",
      "966\n",
      "1219\n"
     ]
    }
   ],
   "source": [
    "print len(female_names_only)\n",
    "print female_names.shape[0]\n",
    "\n",
    "print len(male_names_only)\n",
    "print male_names.shape[0]"
   ]
  },
  {
   "cell_type": "code",
   "execution_count": 34,
   "metadata": {
    "collapsed": true
   },
   "outputs": [],
   "source": [
    "with file(\"/home/patrick/Documents/insight/male_99.txt\", \"w\") as f:\n",
    "    for name in male_names_only:\n",
    "        f.write(name)\n",
    "        f.write('\\n')\n",
    "        "
   ]
  }
 ],
 "metadata": {
  "kernelspec": {
   "display_name": "Python 2",
   "language": "python",
   "name": "python2"
  },
  "language_info": {
   "codemirror_mode": {
    "name": "ipython",
    "version": 2
   },
   "file_extension": ".py",
   "mimetype": "text/x-python",
   "name": "python",
   "nbconvert_exporter": "python",
   "pygments_lexer": "ipython2",
   "version": "2.7.10"
  }
 },
 "nbformat": 4,
 "nbformat_minor": 0
}
