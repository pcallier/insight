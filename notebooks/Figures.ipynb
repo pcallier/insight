{
 "cells": [
  {
   "cell_type": "code",
   "execution_count": 3,
   "metadata": {
    "collapsed": true
   },
   "outputs": [],
   "source": [
    "import psycopg2 as ppg\n",
    "import pandas as pd\n",
    "import numpy as np\n",
    "import random\n",
    "import datetime\n",
    "import time"
   ]
  },
  {
   "cell_type": "code",
   "execution_count": 4,
   "metadata": {
    "collapsed": true
   },
   "outputs": [],
   "source": [
    "usa = (-125.6791025,25.4180700649,-66.885417,\n",
    "                           49.3284551525)\n",
    "la = ( -119.578941, 32.799580, -114.130814, 35.809120)\n",
    "    \n",
    "def in_place(pt, box, long_field='long', lat_field='lat'):\n",
    "    return (pt[long_field] > box[0]) & \\\n",
    "             (pt[lat_field] > box[1]) & \\\n",
    "             (pt[long_field] < box[2]) & \\\n",
    "             (pt[lat_field] < box[3])"
   ]
  },
  {
   "cell_type": "code",
   "execution_count": null,
   "metadata": {
    "collapsed": false
   },
   "outputs": [],
   "source": [
    "con = ppg.connect(dbname=\"tweets\", user=\"patrick\")\n",
    "con.rollback()\n",
    "with con.cursor() as cur:\n",
    "    cur.execute(\"select user_id, place, coded_lat, coded_long \"\n",
    "                \"from users join places using (place) where place != 'None' AND place is not null and place != '' AND \"\n",
    "               \"coded_lat != -500 AND coded_long != 500\")\n",
    "    user_df = pd.DataFrame(cur.fetchall(), columns=[c[0] for c in cur.description])"
   ]
  },
  {
   "cell_type": "code",
   "execution_count": null,
   "metadata": {
    "collapsed": false
   },
   "outputs": [],
   "source": [
    "with con.cursor() as cur:\n",
    "    cur.execute(\"select tweet_id, lat, long from tweets\")\n",
    "    tweet_loc_df = pd.DataFrame(cur.fetchall(), columns=[c[0] for c in cur.description])\n",
    "tweet_loc_df['in_us'] = tweet_loc_df.apply(lambda x: in_place(x, usa), axis=1)"
   ]
  },
  {
   "cell_type": "code",
   "execution_count": null,
   "metadata": {
    "collapsed": true
   },
   "outputs": [],
   "source": []
  }
 ],
 "metadata": {
  "kernelspec": {
   "display_name": "Python 2",
   "language": "python",
   "name": "python2"
  },
  "language_info": {
   "codemirror_mode": {
    "name": "ipython",
    "version": 2
   },
   "file_extension": ".py",
   "mimetype": "text/x-python",
   "name": "python",
   "nbconvert_exporter": "python",
   "pygments_lexer": "ipython2",
   "version": "2.7.10"
  }
 },
 "nbformat": 4,
 "nbformat_minor": 0
}
