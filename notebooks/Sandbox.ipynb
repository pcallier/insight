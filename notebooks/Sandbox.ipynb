{
 "cells": [
  {
   "cell_type": "code",
   "execution_count": 27,
   "metadata": {
    "collapsed": true
   },
   "outputs": [],
   "source": [
    "import pymysql as mdb\n",
    "import getpass"
   ]
  },
  {
   "cell_type": "code",
   "execution_count": 28,
   "metadata": {
    "collapsed": false
   },
   "outputs": [
    {
     "name": "stdout",
     "output_type": "stream",
     "text": [
      "········\n",
      "<pymysql.connections.Connection object at 0x7f14d87cad50>\n"
     ]
    }
   ],
   "source": [
    "pwd = getpass.getpass()\n",
    "con = mdb.connect('localhost', 'root', pwd, 'tweets', charset='utf8mb4', use_unicode=True)\n",
    "print con\n",
    "pwd = None"
   ]
  },
  {
   "cell_type": "code",
   "execution_count": 26,
   "metadata": {
    "collapsed": false
   },
   "outputs": [
    {
     "name": "stdout",
     "output_type": "stream",
     "text": [
      "[u'@leightonmixon @TravisJarrell @Faith_Coleman @ArielNicoleRice but catch you guys in a year, still gotta get that highschool diploma ?']\n",
      "UPDATE tweets SET text='~😅~' WHERE tweet_id='hello8';\n",
      "[u'~?~']\n"
     ]
    }
   ],
   "source": [
    "with con.cursor() as cur:\n",
    "    cur.execute(\"SET NAMES utf8mb4;\")\n",
    "    cur.execute(\"SET CHARACTER SET utf8mb4;\")\n",
    "    \n",
    "    def printtext():\n",
    "        cur.execute(\"SELECT text FROM tweets WHERE tweet_id = 'hello8';\")\n",
    "        rows = list(*cur.fetchall())\n",
    "        print rows\n",
    "    printtext()\n",
    "    print u\"UPDATE tweets SET text='~😅~' WHERE tweet_id='hello8';\"\n",
    "    cur.execute(u\"UPDATE tweets SET text='~😅~' WHERE tweet_id='hello8';\")\n",
    "    printtext()"
   ]
  },
  {
   "cell_type": "code",
   "execution_count": 30,
   "metadata": {
    "collapsed": false
   },
   "outputs": [
    {
     "name": "stdout",
     "output_type": "stream",
     "text": [
      "[u'~\\U0001f605~']\n"
     ]
    }
   ],
   "source": [
    "with con.cursor() as cur:\n",
    "    cur.execute(u\"SELECT '~😅~';\")\n",
    "    print list(*cur.fetchall())\n"
   ]
  },
  {
   "cell_type": "code",
   "execution_count": 1,
   "metadata": {
    "collapsed": false
   },
   "outputs": [
    {
     "ename": "ImportError",
     "evalue": "No module named psycopg2",
     "output_type": "error",
     "traceback": [
      "\u001b[1;31m---------------------------------------------------------------------------\u001b[0m",
      "\u001b[1;31mImportError\u001b[0m                               Traceback (most recent call last)",
      "\u001b[1;32m<ipython-input-1-f944887fb876>\u001b[0m in \u001b[0;36m<module>\u001b[1;34m()\u001b[0m\n\u001b[1;32m----> 1\u001b[1;33m \u001b[1;32mimport\u001b[0m \u001b[0mpsycopg2\u001b[0m \u001b[1;32mas\u001b[0m \u001b[0mppg\u001b[0m\u001b[1;33m\u001b[0m\u001b[0m\n\u001b[0m\u001b[0;32m      2\u001b[0m \u001b[1;33m\u001b[0m\u001b[0m\n\u001b[0;32m      3\u001b[0m \u001b[0mcon\u001b[0m \u001b[1;33m=\u001b[0m \u001b[0mppg\u001b[0m\u001b[1;33m.\u001b[0m\u001b[0mconnect\u001b[0m\u001b[1;33m(\u001b[0m\u001b[1;34m\"dbname=tweets user=patrick\"\u001b[0m\u001b[1;33m)\u001b[0m\u001b[1;33m\u001b[0m\u001b[0m\n\u001b[0;32m      4\u001b[0m \u001b[1;32mprint\u001b[0m \u001b[0mcon\u001b[0m\u001b[1;33m\u001b[0m\u001b[0m\n",
      "\u001b[1;31mImportError\u001b[0m: No module named psycopg2"
     ]
    }
   ],
   "source": [
    "import psycopg2 as ppg\n",
    "\n",
    "con = ppg.connect(\"dbname=tweets user=patrick\")\n",
    "print con"
   ]
  },
  {
   "cell_type": "code",
   "execution_count": 45,
   "metadata": {
    "collapsed": false
   },
   "outputs": [],
   "source": [
    "con.rollback()"
   ]
  },
  {
   "cell_type": "code",
   "execution_count": 49,
   "metadata": {
    "collapsed": false
   },
   "outputs": [
    {
     "name": "stdout",
     "output_type": "stream",
     "text": [
      "😅is my fav emoji bc its my life 😅😅😅😅😅😅😅😅😅😅😅😅😅😅\n"
     ]
    }
   ],
   "source": [
    "with con.cursor() as cur:\n",
    "    cur.execute(\"SELECT * FROM tweets WHERE tweet_id = '606494972141903872';\")\n",
    "    print cur.fetchone()[0]\n",
    "    "
   ]
  },
  {
   "cell_type": "code",
   "execution_count": 34,
   "metadata": {
    "collapsed": false
   },
   "outputs": [
    {
     "name": "stdout",
     "output_type": "stream",
     "text": [
      "<connection object at 0x7f14d46ea5c8; dsn: 'dbname=tweets user=patrick', closed: 1>\n"
     ]
    }
   ],
   "source": [
    "print con"
   ]
  },
  {
   "cell_type": "code",
   "execution_count": null,
   "metadata": {
    "collapsed": true
   },
   "outputs": [],
   "source": []
  }
 ],
 "metadata": {
  "kernelspec": {
   "display_name": "Python 2",
   "language": "python",
   "name": "python2"
  },
  "language_info": {
   "codemirror_mode": {
    "name": "ipython",
    "version": 2
   },
   "file_extension": ".py",
   "mimetype": "text/x-python",
   "name": "python",
   "nbconvert_exporter": "python",
   "pygments_lexer": "ipython2",
   "version": "2.7.6"
  }
 },
 "nbformat": 4,
 "nbformat_minor": 0
}
